{
 "cells": [
  {
   "cell_type": "markdown",
   "metadata": {},
   "source": [
    "## 3. Simulation  \n",
    "\n",
    "<p> In previous chapter, I generated a set of data with low and high correlation. However, only one instance is not enough to make general conclusion about the relationship between Ridge/LASSO and correlation. Using codes that I wrote in last chapter, it should be easy to design simulations."
   ]
  },
  {
   "cell_type": "code",
   "execution_count": 30,
   "metadata": {},
   "outputs": [],
   "source": [
    "## Code from previous chapter\n",
    "\n",
    "# Import library\n",
    "import numpy as np\n",
    "from numpy import random as random \n",
    "import pandas as pd\n",
    "from sklearn.model_selection import GridSearchCV\n",
    "from sklearn import linear_model\n",
    "\n",
    "\n",
    "#` Generate closest positive semi-definite matrix from matrix\n",
    "#`\n",
    "#` @param A squared matrix\n",
    "#` @return 'pxp' positive semi-matrix that being the closest from A\n",
    "#` @detail this algorithm is proven in Higham's 1988 paper\n",
    "#`         code written by tjiagoM from stackoverflow.com\n",
    "#` get_near_psd: Matrix -> Matrix\n",
    "def get_near_psd(A):\n",
    "    C = (A + A.T)/2\n",
    "    eigval, eigvec = np.linalg.eig(C)\n",
    "    eigval[eigval < 0] = 0\n",
    "\n",
    "    return eigvec.dot(np.diag(eigval)).dot(eigvec.T)\n",
    "\n",
    "#` Generate correlation matrix of given level\n",
    "#` \n",
    "#` @param nvar number of variables(p)\n",
    "#` @param scale level of correlation. expecting one of 'low' or 'high'\n",
    "#` @return pxp correltion-like positive semi-definite matrix\n",
    "#` @detail 'low' restricts non-diagonal entries to have 0 <= abs(rho) <= 0.5\n",
    "#`         'high': 0.5 < abs(rho) <= 1.0\n",
    "#` gen_corr: int string -> Matrix\n",
    "def gen_corr(nvar, scale={'low','high'}):\n",
    "    iden_mat = np.identity(nvar)\n",
    "    elem = np.empty(nvar**2-nvar)\n",
    "    i = 0\n",
    "    while i < (nvar**2-nvar):\n",
    "        draw = random.uniform(-1,1,1)\n",
    "        if scale == 'low':\n",
    "            if abs(draw) <= 0.5: \n",
    "                elem[i] = draw\n",
    "                i = i + 1\n",
    "        elif scale == 'high':\n",
    "            if abs(draw) > 0.5:\n",
    "                elem[i] = draw\n",
    "                i = i + 1\n",
    "        else: break\n",
    "  \n",
    "    iden_mat[iden_mat != 1] = elem\n",
    "    corr = get_near_psd(iden_mat)\n",
    "    \n",
    "    return corr\n",
    "\n",
    "#` Generate covariance matrix from correlation matrix\n",
    "#` \n",
    "#` @param corr pxp correlation matrix\n",
    "#` @param std vector length p of standard deviation, default set to None\n",
    "#` @param std_range range of std, default set to [1,5]\n",
    "#` @return pxp covariance matrix\n",
    "#` @detail Cov = corr * (std * std.transpose)\n",
    "#`         if std is not specified, it will be sampled within std_range\n",
    "#` corr2cov: Matrix Bool IntRange -> Matrix\n",
    "def corr2cov(corr, std=None, std_range=[1,5]):\n",
    "    nvar = corr.shape[0]\n",
    "    if std is None:\n",
    "        std = random.uniform(std_range[0],std_range[1],nvar)\n",
    "    \n",
    "    cov = corr * np.outer(std,std)\n",
    "\n",
    "    return cov"
   ]
  },
  {
   "cell_type": "markdown",
   "metadata": {},
   "source": [
    "+ Simulating"
   ]
  },
  {
   "cell_type": "code",
   "execution_count": 32,
   "metadata": {},
   "outputs": [],
   "source": [
    "# setting\n",
    "random.seed(1)\n",
    "nvar = 2\n",
    "low,high = -5,5\n",
    "nsamp = 500\n",
    "ntrain = int(0.8*nsamp)\n",
    "nsim = 100\n",
    "result = np.zeros((2,3,nsim))\n",
    "\n",
    "for i in range(nsim):\n",
    "    # Correlation and covariance matrices\n",
    "    corr_low = gen_corr(nvar,'low')\n",
    "    corr_high = gen_corr(nvar,'high')\n",
    "\n",
    "    cov_low = corr2cov(corr_low)\n",
    "    cov_high = corr2cov(corr_high)\n",
    "\n",
    "    # Generating datapoints from multivariate normal distribution\n",
    "    means = np.around(random.uniform(low,high,nvar),2)\n",
    "    X_low = random.multivariate_normal(means,cov_low,nsamp)\n",
    "    X_high = random.multivariate_normal(means,cov_high,nsamp)\n",
    "\n",
    "    # Generate coefficients and finally Y\n",
    "    beta = np.array([np.around(random.normal(low,high,nvar),3)]).transpose()\n",
    "    Y_lmean = np.matmul(X_low,beta)\n",
    "    Y_hmean = np.matmul(X_high,beta)\n",
    "    Y_var = random.uniform(2,10)\n",
    "\n",
    "    Y_low = np.array([random.normal(Y_lmean,Y_var,nsamp)]).T\n",
    "    Y_high = np.array([random.normal(Y_hmean,Y_var,nsamp)]).T\n",
    "    \n",
    "    train_x_l,train_x_h = X_low[:ntrain,],X_high[:ntrain,]\n",
    "    train_y_l,train_y_h = Y_low[:ntrain,],Y_high[:ntrain,]\n",
    "    test_x_l,test_x_h = X_low[ntrain:,],X_high[ntrain:,]\n",
    "    test_y_l,test_y_h = Y_low[ntrain:,],Y_high[ntrain:,]\n",
    "    \n",
    "    # Linear Regression\n",
    "    lin_reg = linear_model.LinearRegression()\n",
    "    lin_low = lin_reg.fit(train_x_l,train_y_l)\n",
    "    lin_high = lin_reg.fit(train_x_h,train_y_h)\n",
    "\n",
    "    grid = dict()\n",
    "    grid['alpha']=[1e-4,1e-3,0.01,0.1,1,10,100,1000]\n",
    "    ridge = linear_model.Ridge()\n",
    "    lasso = linear_model.Lasso()\n",
    "\n",
    "    # Tuning parameters\n",
    "    tune_ridge = GridSearchCV(ridge, grid, scoring='neg_mean_absolute_error', cv=5)\n",
    "    ridge_l = tune_ridge.fit(train_x_l,train_y_l)\n",
    "    ridge_h = tune_ridge.fit(train_x_h,train_y_h)\n",
    "    tune_lasso = GridSearchCV(lasso, grid, scoring='neg_mean_absolute_error', cv=5)\n",
    "    lasso_l = tune_lasso.fit(train_x_l,train_y_l)\n",
    "    lasso_h = tune_lasso.fit(train_x_h,train_y_h)\n",
    "    \n",
    "    param_r_l = ridge_l.best_params_['alpha']\n",
    "    param_r_h = ridge_h.best_params_['alpha']\n",
    "    param_l_l = lasso_l.best_params_['alpha']\n",
    "    param_l_h = lasso_h.best_params_['alpha']\n",
    "\n",
    "    opt_ridge_l = linear_model.Ridge(alpha=param_r_l)\n",
    "    opt_ridge_h = linear_model.Ridge(alpha=param_r_h)\n",
    "    opt_lasso_l = linear_model.Lasso(alpha=param_l_l)\n",
    "    opt_lasso_h = linear_model.Ridge(alpha=param_l_h)\n",
    "\n",
    "    train_r_l = opt_ridge_l.fit(train_x_l,train_y_l)\n",
    "    train_r_h = opt_ridge_h.fit(train_x_h,train_y_h)\n",
    "    train_l_l = opt_lasso_l.fit(train_x_l,train_y_l)\n",
    "    train_l_h = opt_lasso_h.fit(train_x_h,train_y_h)\n",
    "\n",
    "    # Prediction Error\n",
    "    pmse_lin_l = np.mean((lin_low.predict(test_x_l) - test_y_l)**2)\n",
    "    pmse_lin_h = np.mean((lin_high.predict(test_x_h) - test_y_h)**2)\n",
    "    pmse_r_l = np.mean((train_r_l.predict(test_x_l) - test_y_l)**2)\n",
    "    pmse_r_h = np.mean((train_r_h.predict(test_x_h) - test_y_h)**2)\n",
    "    pmse_l_l = np.mean((train_l_l.predict(test_x_l) - test_y_l)**2)\n",
    "    pmse_l_h = np.mean((train_l_h.predict(test_x_h) - test_y_h)**2)\n",
    "\n",
    "    # fill in the results\n",
    "    result[0,:,i] = pmse_lin_l,pmse_r_l,pmse_l_l\n",
    "    result[1,:,i] = pmse_lin_h,pmse_r_h,pmse_l_h\n"
   ]
  },
  {
   "cell_type": "markdown",
   "metadata": {},
   "source": [
    "+ Visualizing Results"
   ]
  },
  {
   "cell_type": "code",
   "execution_count": 98,
   "metadata": {},
   "outputs": [
    {
     "data": {
      "text/plain": [
       "(0, 80)"
      ]
     },
     "execution_count": 98,
     "metadata": {},
     "output_type": "execute_result"
    },
    {
     "data": {
      "image/png": "[encoded data removed]",
      "text/plain": [
       "<Figure size 432x288 with 2 Axes>"
      ]
     },
     "metadata": {
      "needs_background": "light"
     },
     "output_type": "display_data"
    }
   ],
   "source": [
    "import matplotlib.pyplot as plt\n",
    "\n",
    "# Assign 1 if LASSO has smaller pmse than Ridge(LASSO is better)\n",
    "is_lasso_better = np.zeros((2,nsim))\n",
    "for i in range(nsim):\n",
    "    if (result[0,2,i] - result[0,1,i]) <= 0:\n",
    "        is_lasso_better[0,i] = 1\n",
    "    if (result[1,2,i] - result[1,1,i]) <= 0:\n",
    "        is_lasso_better[1,i] = 1\n",
    "    i = i+1\n",
    "    \n",
    "# Visualizing through histograms\n",
    "plt.subplot(1,2,1)\n",
    "hist_low = plt.hist(is_lasso_better[0,:], bins=2, rwidth=0.5, edgecolor='black')\n",
    "plt.title('Low Correlation')\n",
    "plt.ylim((0,80))\n",
    "\n",
    "plt.subplot(1,2,2)\n",
    "hist_high = plt.hist(is_lasso_better[1,:], bins=2, rwidth=0.5, edgecolor='black')\n",
    "plt.title('High Correlation')\n",
    "plt.ylim((0,80))"
   ]
  },
  {
   "cell_type": "markdown",
   "metadata": {},
   "source": [
    "<p> As a result of 100 simulations in this setting, we can produce pmse for Ridge and LASSO in each setting of correlation. Bins on left indicates Ridge regression has better prediction performance. We can interpret the results as follows;  \n",
    "    \n",
    "+ Low Correlation  \n",
    "Length of the bin on the left is shorter than one on the right. Which means, LASSO tends to have better performance than Ridge when the data has low correaltion. \n",
    "\n",
    "+ High Correlation\n",
    "Opposite result produced in high correlation case. Ridge showed better performance than LASSO.\n",
    "    \n",
    "<p> Just in case if anyone is interested to check performance of Linear regression, I will plot similar histograms. "
   ]
  },
  {
   "cell_type": "code",
   "execution_count": 96,
   "metadata": {},
   "outputs": [
    {
     "data": {
      "text/plain": [
       "(0, 110)"
      ]
     },
     "execution_count": 96,
     "metadata": {},
     "output_type": "execute_result"
    },
    {
     "data": {
      "image/png": "[encoded data removed]",
      "text/plain": [
       "<Figure size 432x288 with 2 Axes>"
      ]
     },
     "metadata": {
      "needs_background": "light"
     },
     "output_type": "display_data"
    }
   ],
   "source": [
    "# Same as above, assign 1 if linear regression is better\n",
    "is_lin_better = np.zeros((2,nsim))\n",
    "for i in range(nsim):\n",
    "    if (result[0,0,i] - result[0,1,i]) <= 0:\n",
    "        is_lin_better[0,i] = 1\n",
    "    if (result[1,0,i] - result[1,2,i]) <= 0:\n",
    "        is_lin_better[1,i] = 1\n",
    "    i = i+1\n",
    "\n",
    "# Histograms\n",
    "plt.subplot(1,2,1)\n",
    "hist_low = plt.hist(is_lin_better[0,:], bins=2, rwidth=0.5, edgecolor='black')\n",
    "plt.title('Low Correlation')\n",
    "plt.ylim((0,110))\n",
    "\n",
    "plt.subplot(1,2,2)\n",
    "hist_high = plt.hist(is_lin_better[1,:], bins=2, rwidth=0.5, edgecolor='black')\n",
    "plt.title('High Correlation')\n",
    "plt.ylim((0,110))"
   ]
  },
  {
   "cell_type": "markdown",
   "metadata": {},
   "source": [
    "<p> Right bins from the histograms represent number of simulated case which showed $\\textbf{better}$ performance than other methods. For the comparing methods, I chose method that showed worse performance in each settings(Ridge for low correltion and LASSO for high correlation). It can be interpreted that linear regression generally has the worst performance over Ridge and LASSO. "
   ]
  },
  {
   "cell_type": "markdown",
   "metadata": {},
   "source": [
    "## 4. Conclusion\n",
    "\n",
    "<p> As described in the chapter 2, motivation to start this project is to check if Ridge regression performs better than LASSO in highly correlated dataset. So I did 100 simulations and found out that Ridge tends to perform better than LASSO in high correlation. I just confirmed what my professor said about this relationship turned to be true. \n",
    "\n",
    "<p> I could see more clear results if the process of generating data is mathematically proven. So, if I get to study more deeply on this topic again in the future, I should have to take special care of this issue and find better way to do it. "
   ]
  }
 ],
 "metadata": {
  "kernelspec": {
   "display_name": "Python 3",
   "language": "python",
   "name": "python3"
  },
  "language_info": {
   "codemirror_mode": {
    "name": "ipython",
    "version": 3
   },
   "file_extension": ".py",
   "mimetype": "text/x-python",
   "name": "python",
   "nbconvert_exporter": "python",
   "pygments_lexer": "ipython3",
   "version": "3.7.4"
  }
 },
 "nbformat": 4,
 "nbformat_minor": 2
}
